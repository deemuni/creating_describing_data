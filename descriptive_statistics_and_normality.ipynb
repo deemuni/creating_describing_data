{
 "cells": [
  {
   "cell_type": "markdown",
   "metadata": {},
   "source": [
    "# Descriptive Statistics and Normality\n",
    "\n",
    "Source for Questions: Thinkful Curriculum\n",
    "More info about distributions: http://reliawiki.org/index.php/Main_Page \n",
    "\n",
    "This file written by Dipti Muni\n",
    "\n",
    "Date: 2 - 12 - 2018\n",
    "\n",
    "__Problem to Solve__\n",
    "\n",
    "1. Use Python skills to create some datasets.\n",
    "2. Use statistical knowledge to summarize them. \n",
    "3. Choose 6 distributions from the list of random distributions available in NumPy, called [“Distributions”](https://docs.scipy.org/doc/numpy/reference/routines.random.html#distributions)\n",
    "\n",
    "For each distribution:\n",
    "\n",
    "Generate a random variable with 100 datapoints using the code distributionvar = np.random.distributionname([arguments], 100), replacing distributionvar with an appropriate variable name and distributionname with the name of the distribution you’ve chosen, and filling in the empty space in the parentheses with your chosen values for the appropriate parameters. If you feel uncertain about how to do this, go back to the “Other Distributions” assignment for examples of code to use as a starting point.\n",
    "\n",
    "\n",
    "Graph the variable using a histogram.\n",
    "\n",
    "\n",
    "Compute the mean and standard deviation and plot them as vertical lines on the histogram. \n",
    "\n",
    "\n",
    "Evaluate whether the descriptive statistics provided useful information about the variable. Can you identify any common characteristics of the distributions that could be usefully described using the mean and/or standard deviation, versus the ones that could not?\n",
    "\n",
    "\n",
    "Additionally:\n",
    "\n",
    "Generate two normally-distributed variables, one with a mean of 5 and standard deviation of 0.5, and the other with a mean of 10 and standard deviation of 1.\n",
    "\n",
    "\n",
    "Add them together to create a third variable.\n",
    "\n",
    "\n",
    "Graph the third variable using a histogram.\n",
    "\n",
    "\n",
    "Compute the mean and standard deviation and plot them as vertical lines on the histogram.\n",
    "\n",
    "\n",
    "Evaluate the descriptive statistics against the data."
   ]
  },
  {
   "cell_type": "code",
   "execution_count": 1,
   "metadata": {
    "collapsed": true
   },
   "outputs": [],
   "source": [
    "#imports\n",
    "from scipy import stats  \n",
    "import numpy as np\n",
    "import pandas as pd\n",
    "import matplotlib.pyplot as plt\n",
    "%matplotlib inline"
   ]
  },
  {
   "cell_type": "markdown",
   "metadata": {},
   "source": [
    "## Beta Distribution\n",
    "\n",
    "Beta distribution represents the probability distribution of probabilities and that means that it represents all the possible values of a probability when we don't know what the probability is."
   ]
  },
  {
   "cell_type": "code",
   "execution_count": 2,
   "metadata": {},
   "outputs": [
    {
     "name": "stdout",
     "output_type": "stream",
     "text": [
      "The mean is 0.314684342512\n",
      "The standard deviation is 0.0785495775048\n"
     ]
    },
    {
     "data": {
      "image/png": "[encoded data removed]",
      "text/plain": [
       "<matplotlib.figure.Figure at 0x1a120079e8>"
      ]
     },
     "metadata": {},
     "output_type": "display_data"
    }
   ],
   "source": [
    "# create a random dataset\n",
    "# a = 10, b = 20\n",
    "rand1 = np.random.beta(10, 20, 100)\n",
    "\n",
    "#Plot a histogram\n",
    "plt.hist(rand1)\n",
    "\n",
    "# compute the mean\n",
    "mean_rand1 = rand1.mean()\n",
    "print(\"The mean is\", mean_rand1)\n",
    "\n",
    "# compute the standard deviation\n",
    "std_rand1 = rand1.std()\n",
    "print(\"The standard deviation is\", std_rand1)\n",
    "\n",
    "#Plot a histogram for rand1.\n",
    "plt.hist(rand1)\n",
    "\n",
    "# Add a vertical line at the mean.\n",
    "plt.axvline(rand1.mean(), color='b', linestyle='solid', linewidth=2)\n",
    "\n",
    "# Add a vertical line at one standard deviation above the mean.\n",
    "plt.axvline(rand1.mean() + rand1.std(), color='b', linestyle='dashed', linewidth=2)\n",
    "\n",
    "# Add a vertical line at one standard deviation below the mean.\n",
    "plt.axvline(rand1.mean() - rand1.std(), color='b', linestyle='dashed', linewidth=2) \n",
    "\n",
    "\n",
    "# Print the histogram.\n",
    "plt.show()"
   ]
  },
  {
   "cell_type": "markdown",
   "metadata": {},
   "source": [
    "### Evaluation\n",
    "\n",
    "When we have a is 10 and b is 20, the beta distribution is to the left. If we were to decrease b to 10 and a to 20, the beta distribution is to the right. The distribution is skewed to the left and that means it has positive distribution.\n"
   ]
  },
  {
   "cell_type": "markdown",
   "metadata": {},
   "source": [
    "## Logistic Distribution\n",
    "\n",
    "Logistic distribution is used for modeling growth and is also for logistic regression. It's shape is very similar to normal distribution. It has 2 parameters, loc (location or mean) and scale (>0)"
   ]
  },
  {
   "cell_type": "code",
   "execution_count": 3,
   "metadata": {},
   "outputs": [
    {
     "name": "stdout",
     "output_type": "stream",
     "text": [
      "The mean is 10.09\n",
      "The standard deviation is 0.91\n"
     ]
    },
    {
     "data": {
      "image/png": "[encoded data removed]",
      "text/plain": [
       "<matplotlib.figure.Figure at 0x1a12019ba8>"
      ]
     },
     "metadata": {},
     "output_type": "display_data"
    }
   ],
   "source": [
    "# create a random dataset\n",
    "rand1 = np.random.logistic(10, .5, 100)\n",
    "\n",
    "#Plot a histogram\n",
    "plt.hist(rand1)\n",
    "\n",
    "# compute the mean\n",
    "mean_rand1 = round(rand1.mean(), 2)\n",
    "print(\"The mean is\", mean_rand1)\n",
    "\n",
    "# compute the standard deviation\n",
    "std_rand1 = round(rand1.std(), 2)\n",
    "print(\"The standard deviation is\", std_rand1)\n",
    "\n",
    "#Plot a histogram for rand1.\n",
    "plt.hist(rand1)\n",
    "\n",
    "# Add a vertical line at the mean.\n",
    "plt.axvline(rand1.mean(), color='b', linestyle='solid', linewidth=2)\n",
    "\n",
    "# Add a vertical line at one standard deviation above the mean.\n",
    "plt.axvline(rand1.mean() + rand1.std(), color='b', linestyle='dashed', linewidth=2)\n",
    "\n",
    "# Add a vertical line at one standard deviation below the mean.\n",
    "plt.axvline(rand1.mean() - rand1.std(), color='b', linestyle='dashed', linewidth=2) \n",
    "\n",
    "\n",
    "# Print the histogram.\n",
    "plt.show()"
   ]
  },
  {
   "cell_type": "markdown",
   "metadata": {},
   "source": [
    "### Evaluation\n",
    "\n",
    "At the location of 10 you get a mean of 10.05 and standard deviation of 0.94. The scale is .5 and that makes the pdf (probability density function) gets pushed toward the mean and it becomes narrower and taller. If I increase the scale it will make the pdf spread out away from the mean and it will become broader and swallower. "
   ]
  },
  {
   "cell_type": "markdown",
   "metadata": {},
   "source": [
    "## Gamma Distribution\n",
    "\n",
    "The gamma distribution is a continuous distribution which gives the waiting time for n events to occur, when each event is equally likely to happen at any point in time."
   ]
  },
  {
   "cell_type": "code",
   "execution_count": 4,
   "metadata": {},
   "outputs": [
    {
     "name": "stdout",
     "output_type": "stream",
     "text": [
      "The mean is 3.44985383994\n",
      "The standard deviation is 2.44874491656\n"
     ]
    },
    {
     "data": {
      "image/png": "[encoded data removed]",
      "text/plain": [
       "<matplotlib.figure.Figure at 0x1a16fd6b00>"
      ]
     },
     "metadata": {},
     "output_type": "display_data"
    }
   ],
   "source": [
    "# create a random dataset\n",
    "rand1 = np.random.gamma(2, 2, 100)\n",
    "\n",
    "#Plot a histogram\n",
    "plt.hist(rand1)\n",
    "\n",
    "# compute the mean\n",
    "mean_rand1 = rand1.mean()\n",
    "print(\"The mean is\", mean_rand1)\n",
    "\n",
    "# compute the standard deviation\n",
    "std_rand1 = rand1.std()\n",
    "print(\"The standard deviation is\", std_rand1)\n",
    "\n",
    "#Plot a histogram for rand1.\n",
    "plt.hist(rand1)\n",
    "\n",
    "# Add a vertical line at the mean.\n",
    "plt.axvline(rand1.mean(), color='b', linestyle='solid', linewidth=2)\n",
    "\n",
    "# Add a vertical line at one standard deviation above the mean.\n",
    "plt.axvline(rand1.mean() + rand1.std(), color='b', linestyle='dashed', linewidth=2)\n",
    "\n",
    "# Add a vertical line at one standard deviation below the mean.\n",
    "plt.axvline(rand1.mean() - rand1.std(), color='b', linestyle='dashed', linewidth=2) \n",
    "\n",
    "\n",
    "# Print the histogram.\n",
    "plt.show()"
   ]
  },
  {
   "cell_type": "markdown",
   "metadata": {},
   "source": [
    "### Evaluation\n",
    "\n",
    "The probability density function is skewed to the left. It shows on right side of the mean the value goes down."
   ]
  },
  {
   "cell_type": "markdown",
   "metadata": {},
   "source": [
    "## Standard Gamma Distribution"
   ]
  },
  {
   "cell_type": "code",
   "execution_count": 5,
   "metadata": {},
   "outputs": [
    {
     "name": "stdout",
     "output_type": "stream",
     "text": [
      "The mean is 1.91247044536\n",
      "The standard deviation is 1.33422492378\n"
     ]
    },
    {
     "data": {
      "image/png": "[encoded data removed]",
      "text/plain": [
       "<matplotlib.figure.Figure at 0x1a1a520128>"
      ]
     },
     "metadata": {},
     "output_type": "display_data"
    }
   ],
   "source": [
    "# create a random dataset\n",
    "rand1 = np.random.standard_gamma(2, 100)\n",
    "\n",
    "#Plot a histogram\n",
    "plt.hist(rand1)\n",
    "\n",
    "# compute the mean\n",
    "mean_rand1 = rand1.mean()\n",
    "print(\"The mean is\", mean_rand1)\n",
    "\n",
    "# compute the standard deviation\n",
    "std_rand1 = rand1.std()\n",
    "print(\"The standard deviation is\", std_rand1)\n",
    "\n",
    "#Plot a histogram for rand1.\n",
    "plt.hist(rand1)\n",
    "\n",
    "# Add a vertical line at the mean.\n",
    "plt.axvline(rand1.mean(), color='b', linestyle='solid', linewidth=2)\n",
    "\n",
    "# Add a vertical line at one standard deviation above the mean.\n",
    "plt.axvline(rand1.mean() + rand1.std(), color='b', linestyle='dashed', linewidth=2)\n",
    "\n",
    "# Add a vertical line at one standard deviation below the mean.\n",
    "plt.axvline(rand1.mean() - rand1.std(), color='b', linestyle='dashed', linewidth=2) \n",
    "\n",
    "\n",
    "# Print the histogram.\n",
    "plt.show()"
   ]
  },
  {
   "cell_type": "markdown",
   "metadata": {},
   "source": [
    "### Evaluation\n",
    "\n",
    "With standard gamma distribution, the scale is 1. Notice the change in mean after the decrease in one scale from Gamma distribution. The difference between mean and standard deviation is less. The data is skewed to the left "
   ]
  },
  {
   "cell_type": "markdown",
   "metadata": {},
   "source": [
    "## Geometric Distribution\n",
    "\n",
    "The geometric distribution models the number of times the trails must run (failures) in order to achieve success. The first parameter is p value that represents the probability of success of an individual trial. "
   ]
  },
  {
   "cell_type": "code",
   "execution_count": 6,
   "metadata": {},
   "outputs": [
    {
     "name": "stdout",
     "output_type": "stream",
     "text": [
      "The mean is 2.8\n",
      "The standard deviation is 2.09761769634\n"
     ]
    },
    {
     "data": {
      "image/png": "[encoded data removed]",
      "text/plain": [
       "<matplotlib.figure.Figure at 0x1a1a33c780>"
      ]
     },
     "metadata": {},
     "output_type": "display_data"
    }
   ],
   "source": [
    "# create a random dataset\n",
    "# p = .35\n",
    "rand1 = np.random.geometric(.35, 100)\n",
    "\n",
    "#Plot a histogram\n",
    "plt.hist(rand1)\n",
    "\n",
    "# compute the mean\n",
    "mean_rand1 = rand1.mean()\n",
    "print(\"The mean is\", mean_rand1)\n",
    "\n",
    "# compute the standard deviation\n",
    "std_rand1 = rand1.std()\n",
    "print(\"The standard deviation is\", std_rand1)\n",
    "\n",
    "#Plot a histogram for rand1.\n",
    "plt.hist(rand1)\n",
    "\n",
    "# Add a vertical line at the mean.\n",
    "plt.axvline(rand1.mean(), color='b', linestyle='solid', linewidth=2)\n",
    "\n",
    "# Add a vertical line at one standard deviation above the mean.\n",
    "plt.axvline(rand1.mean() + rand1.std(), color='b', linestyle='dashed', linewidth=2)\n",
    "\n",
    "# Add a vertical line at one standard deviation below the mean.\n",
    "plt.axvline(rand1.mean() - rand1.std(), color='b', linestyle='dashed', linewidth=2) \n",
    "\n",
    "\n",
    "# Print the histogram.\n",
    "plt.show()"
   ]
  },
  {
   "cell_type": "markdown",
   "metadata": {},
   "source": [
    "### Evaluation\n",
    "\n",
    "With 100 values from geometric distribution, When the probability of success, p, is .35, the y decreases slowly as x increases. The number of trials increases as the probability of success decreases. "
   ]
  },
  {
   "cell_type": "markdown",
   "metadata": {},
   "source": [
    "## Uniform Distribution\n",
    "\n",
    "Also known as Rectangular distribution. It is part of symmetric probability distribution because it has a constant probability for which all of values that a random variable can take occur with equal probability. Uniform distribution has not peaks."
   ]
  },
  {
   "cell_type": "code",
   "execution_count": 7,
   "metadata": {},
   "outputs": [
    {
     "name": "stdout",
     "output_type": "stream",
     "text": [
      "The mean is 0.524477312989\n",
      "The standard deviation is 0.285063447093\n"
     ]
    },
    {
     "data": {
      "image/png": "[encoded data removed]",
      "text/plain": [
       "<matplotlib.figure.Figure at 0x1a1a5f78d0>"
      ]
     },
     "metadata": {},
     "output_type": "display_data"
    }
   ],
   "source": [
    "# create a random dataset\n",
    "#[includes low, excludes high) = [0,1)\n",
    "rand1 = np.random.uniform(0, 1, 100)\n",
    "\n",
    "#Plot a histogram\n",
    "plt.hist(rand1)\n",
    "\n",
    "# compute the mean\n",
    "mean_rand1 = rand1.mean()\n",
    "print(\"The mean is\", mean_rand1)\n",
    "\n",
    "# compute the standard deviation\n",
    "std_rand1 = rand1.std()\n",
    "print(\"The standard deviation is\", std_rand1)\n",
    "\n",
    "#Plot a histogram for rand1.\n",
    "plt.hist(rand1)\n",
    "\n",
    "# Add a vertical line at the mean.\n",
    "plt.axvline(rand1.mean(), color='b', linestyle='solid', linewidth=2)\n",
    "\n",
    "# Add a vertical line at one standard deviation above the mean.\n",
    "plt.axvline(rand1.mean() + rand1.std(), color='b', linestyle='dashed', linewidth=2)\n",
    "\n",
    "# Add a vertical line at one standard deviation below the mean.\n",
    "plt.axvline(rand1.mean() - rand1.std(), color='b', linestyle='dashed', linewidth=2) \n",
    "\n",
    "\n",
    "# Print the histogram.\n",
    "plt.show()"
   ]
  },
  {
   "cell_type": "markdown",
   "metadata": {},
   "source": [
    "### Evaluation\n",
    "\n",
    "The values in the set of data are mostly equally spread across the range of the data set. If I increase the size of the data set, you get more of a rectangular shaped distribution. "
   ]
  },
  {
   "cell_type": "markdown",
   "metadata": {},
   "source": [
    "## Normally Distributed\n",
    "\n",
    "The probability density function of the normal distribution is often called the bell curve because of its shape. It is known to often occur in nature. "
   ]
  },
  {
   "cell_type": "code",
   "execution_count": 8,
   "metadata": {},
   "outputs": [
    {
     "name": "stdout",
     "output_type": "stream",
     "text": [
      "The mean is 15.2053954654\n",
      "The standard deviation is 1.11853186621\n"
     ]
    },
    {
     "data": {
      "image/png": "[encoded data removed]",
      "text/plain": [
       "<matplotlib.figure.Figure at 0x1a1a6e97b8>"
      ]
     },
     "metadata": {},
     "output_type": "display_data"
    }
   ],
   "source": [
    "norm1 = np.random.normal(5, 0.5, 100)\n",
    "norm2 = np.random.normal(10, 1, 100)\n",
    "norm3 = norm1 + norm2\n",
    "\n",
    "#Plot a histogram\n",
    "plt.hist(norm3)\n",
    "\n",
    "# compute the mean\n",
    "mean_norm3 = norm3.mean()\n",
    "print(\"The mean is\", mean_norm3)\n",
    "\n",
    "# compute the standard deviation\n",
    "std_norm3 = norm3.std()\n",
    "print(\"The standard deviation is\", std_norm3)\n",
    "\n",
    "# Add a vertical line at the mean.\n",
    "plt.axvline(norm3.mean(), color='b', linestyle='solid', linewidth=2)\n",
    "\n",
    "# Add a vertical line at one standard deviation above the mean.\n",
    "plt.axvline(norm3.mean() + rand1.std(), color='r', linestyle='dashed', linewidth=2)\n",
    "\n",
    "# Add a vertical line at one standard deviation below the mean.\n",
    "plt.axvline(norm3.mean() - rand1.std(), color='r', linestyle='dashed', linewidth=2) \n",
    "\n",
    "# Print the Histogram\n",
    "plt.show()"
   ]
  },
  {
   "cell_type": "markdown",
   "metadata": {},
   "source": [
    "### Evaluation\n",
    "\n",
    "The peak is at the mean. Same about the the values are with the standard deviation. Standard deviation is close to 1."
   ]
  }
 ],
 "metadata": {
  "kernelspec": {
   "display_name": "Python 3",
   "language": "python",
   "name": "python3"
  },
  "language_info": {
   "codemirror_mode": {
    "name": "ipython",
    "version": 3
   },
   "file_extension": ".py",
   "mimetype": "text/x-python",
   "name": "python",
   "nbconvert_exporter": "python",
   "pygments_lexer": "ipython3",
   "version": "3.6.3"
  }
 },
 "nbformat": 4,
 "nbformat_minor": 2
}
