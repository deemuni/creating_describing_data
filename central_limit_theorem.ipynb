{
 "cells": [
  {
   "cell_type": "markdown",
   "metadata": {},
   "source": [
    "# Exploring the Central Limit Theorem\n",
    "\n",
    "Source for Questions: Thinkful Curriculum\n",
    "\n",
    "This file written by Dipti Muni\n",
    "\n",
    "Date: 2 - 18 - 2018\n",
    "\n",
    "__Problem to Solve__\n",
    "\n",
    "1. Reproduce the pop1 and pop2 populations and samples. \n",
    "2. Create two binomially distributed populations with n equal to 10 and size equal to 10000. The p-value of pop1 should be 0.2 and the p-value of pop2 should be 0.5. \n",
    "3. Using a sample size of 100, calculate the means and standard deviations of your samples.\n",
    "\n",
    "For each of the following tasks, first write what you expect will happen, then code the changes and observe what does happen. \n",
    "\n",
    "Increase the size of your samples from 100 to 1000, then calculate the means and standard deviations for your new samples and create histograms for each. Repeat this again, decreasing the size of your samples to 20. What values change, and what remain the same?\n",
    "\n",
    "Change the probability value (p in the NumPy documentation) for pop1 to 0.3, then take new samples and compute the t-statistic and p-value. Then change the probability value p for group 1 to 0.4, and do it again. What changes, and why?\n",
    "\n",
    "Change the distribution of your populations from binomial to a distribution of your choice. Do the sample mean values still accurately represent the population values?\n",
    "\n"
   ]
  },
  {
   "cell_type": "code",
   "execution_count": 1,
   "metadata": {
    "collapsed": true
   },
   "outputs": [],
   "source": [
    "# imports\n",
    "import numpy as np\n",
    "import pandas as pd\n",
    "import scipy\n",
    "from scipy.stats import ttest_ind\n",
    "import matplotlib.pyplot as plt\n",
    "%matplotlib inline"
   ]
  },
  {
   "cell_type": "markdown",
   "metadata": {},
   "source": [
    "# Create Dataset for Binomial Distribution\n",
    "\n",
    "Binomial distribution means a frequency distribution of the possible number of successful outcomes in a given number of trials where each have the same probability of success."
   ]
  },
  {
   "cell_type": "code",
   "execution_count": 2,
   "metadata": {},
   "outputs": [
    {
     "data": {
      "image/png": "[encoded data removed]",
      "text/plain": [
       "<matplotlib.figure.Figure at 0x1a1077ba90>"
      ]
     },
     "metadata": {},
     "output_type": "display_data"
    },
    {
     "data": {
      "image/png": "[encoded data removed]",
      "text/plain": [
       "<matplotlib.figure.Figure at 0x1a157e68d0>"
      ]
     },
     "metadata": {},
     "output_type": "display_data"
    }
   ],
   "source": [
    "# number of trials, probability of each trial\n",
    "pop1 = np.random.binomial(10, 0.2, 10000)\n",
    "pop2 = np.random.binomial(10,0.5, 10000) \n",
    "\n",
    "# Let’s make histograms for the two groups. \n",
    "\n",
    "plt.hist(pop1, alpha=0.5, label='Population 1') \n",
    "plt.hist(pop2, alpha=0.5, label='Population 2') \n",
    "plt.legend(loc='upper right') \n",
    "plt.show()\n",
    "\n",
    "sample1 = np.random.choice(pop1, 100, replace=True)\n",
    "sample2 = np.random.choice(pop2, 100, replace=True)\n",
    "\n",
    "plt.hist(sample1, alpha=0.5, label='sample 1') \n",
    "plt.hist(sample2, alpha=0.5, label='sample 2') \n",
    "plt.legend(loc='upper right') \n",
    "plt.show()"
   ]
  },
  {
   "cell_type": "markdown",
   "metadata": {},
   "source": [
    "# Calculation for Samples"
   ]
  },
  {
   "cell_type": "code",
   "execution_count": 3,
   "metadata": {},
   "outputs": [
    {
     "name": "stdout",
     "output_type": "stream",
     "text": [
      "\u001b[1mFirst Sample of 100\n",
      "\u001b[0m\n",
      "Mean: 1.89\n",
      "Standard deviation: 1.21\n",
      "\u001b[1m\n",
      "Second Sample of 100\n",
      "\u001b[0m\n",
      "Mean: 1.89\n",
      "Standard deviation: 1.54\n"
     ]
    }
   ],
   "source": [
    "bold = \"\\033[1m\"\n",
    "end = \"\\033[0m\"\n",
    "# sample1\n",
    "print(bold + \"First Sample of 100\\n\" + end)\n",
    "# compute the mean\n",
    "mean_sample1 = round(sample1.mean(), 2)\n",
    "print(\"Mean:\", mean_sample1)\n",
    "\n",
    "# compute the standard deviation\n",
    "std_sample1 = round(sample1.std(), 2)\n",
    "print(\"Standard deviation:\", std_sample1)\n",
    "\n",
    "# sample2\n",
    "print(bold + \"\\nSecond Sample of 100\\n\" + end)\n",
    "# compute the mean\n",
    "mean_sample2 = round(sample2.mean(), 2)\n",
    "print(\"Mean:\", mean_sample1)\n",
    "\n",
    "# compute the standard deviation\n",
    "std_sample2 = round(sample2.std(), 2)\n",
    "print(\"Standard deviation:\", std_sample2)\n",
    "\n"
   ]
  },
  {
   "cell_type": "markdown",
   "metadata": {},
   "source": [
    "# Increasing and Decreasing Size of Samples\n",
    "\n",
    "## Increase Size from 100 to 1000\n",
    "__Hypothesis:__ If I increase the size of the samples it is going to get closer to distribution of population.\n",
    "\n",
    "__Observation:__ The mean increases a little bit. The SD goes up for both sample."
   ]
  },
  {
   "cell_type": "code",
   "execution_count": 4,
   "metadata": {},
   "outputs": [
    {
     "data": {
      "image/png": "[encoded data removed]",
      "text/plain": [
       "<matplotlib.figure.Figure at 0x1a18ab3898>"
      ]
     },
     "metadata": {},
     "output_type": "display_data"
    },
    {
     "name": "stdout",
     "output_type": "stream",
     "text": [
      "\u001b[1mFirst Sample of 1000\n",
      "\u001b[0m\n",
      "Mean: 2.02\n",
      "Standard deviation: 1.26\n",
      "\u001b[1m\n",
      "Second Sample of 1000\n",
      "\u001b[0m\n",
      "Mean: 2.02\n",
      "Standard deviation: 1.63\n"
     ]
    }
   ],
   "source": [
    "#Increase the size from 100 to 1000\n",
    "sample1 = np.random.choice(pop1, 1000, replace=True)\n",
    "sample2 = np.random.choice(pop2, 1000, replace=True)\n",
    "\n",
    "plt.hist(sample1, alpha=0.5, label='sample 1') \n",
    "plt.hist(sample2, alpha=0.5, label='sample 2') \n",
    "plt.legend(loc='upper right') \n",
    "plt.show()\n",
    "\n",
    "# sample1\n",
    "print(bold + \"First Sample of 1000\\n\" + end)\n",
    "# compute the mean\n",
    "mean_sample1 = round(sample1.mean(), 2)\n",
    "print(\"Mean:\", mean_sample1)\n",
    "\n",
    "# compute the standard deviation\n",
    "std_sample1 = round(sample1.std(), 2)\n",
    "print(\"Standard deviation:\", std_sample1)\n",
    "\n",
    "# sample2\n",
    "print(bold + \"\\nSecond Sample of 1000\\n\" + end)\n",
    "# compute the mean\n",
    "mean_sample2 = round(sample2.mean(), 2)\n",
    "print(\"Mean:\", mean_sample1)\n",
    "\n",
    "# compute the standard deviation\n",
    "std_sample2 = round(sample2.std(), 2)\n",
    "print(\"Standard deviation:\", std_sample2)\n"
   ]
  },
  {
   "cell_type": "markdown",
   "metadata": {},
   "source": [
    "## Decrease Size from 100 to 20\n",
    "\n",
    "__Hypothesis:__ Very little data size to determine anything.\n",
    "\n",
    "__Observation:__ The mean increase quite a bit. The SD for first sample goes up little and the SD for second sample goes down. "
   ]
  },
  {
   "cell_type": "code",
   "execution_count": 5,
   "metadata": {},
   "outputs": [
    {
     "data": {
      "image/png": "[encoded data removed]",
      "text/plain": [
       "<matplotlib.figure.Figure at 0x1a18b77128>"
      ]
     },
     "metadata": {},
     "output_type": "display_data"
    },
    {
     "name": "stdout",
     "output_type": "stream",
     "text": [
      "\u001b[1mFirst Sample of 1000\n",
      "\u001b[0m\n",
      "Mean: 2.25\n",
      "Standard deviation: 1.04\n",
      "\u001b[1m\n",
      "Second Sample of 1000\n",
      "\u001b[0m\n",
      "Mean: 2.25\n",
      "Standard deviation: 1.62\n"
     ]
    }
   ],
   "source": [
    "#Decrease the size from 100 to 20\n",
    "sample1 = np.random.choice(pop1, 20, replace=True)\n",
    "sample2 = np.random.choice(pop2, 20, replace=True)\n",
    "\n",
    "plt.hist(sample1, alpha=0.5, label='sample 1') \n",
    "plt.hist(sample2, alpha=0.5, label='sample 2') \n",
    "plt.legend(loc='upper right') \n",
    "plt.show()\n",
    "\n",
    "# sample1\n",
    "print(bold + \"First Sample of 1000\\n\" + end)\n",
    "# compute the mean\n",
    "mean_sample1 = round(sample1.mean(), 2)\n",
    "print(\"Mean:\", mean_sample1)\n",
    "\n",
    "# compute the standard deviation\n",
    "std_sample1 = round(sample1.std(), 2)\n",
    "print(\"Standard deviation:\", std_sample1)\n",
    "\n",
    "# sample2\n",
    "print(bold + \"\\nSecond Sample of 1000\\n\" + end)\n",
    "# compute the mean\n",
    "mean_sample2 = round(sample2.mean(), 2)\n",
    "print(\"Mean:\", mean_sample1)\n",
    "\n",
    "# compute the standard deviation\n",
    "std_sample2 = round(sample2.std(), 2)\n",
    "print(\"Standard deviation:\", std_sample2)"
   ]
  },
  {
   "cell_type": "markdown",
   "metadata": {},
   "source": [
    "# Probability Value Change: T-statistics and P-Value\n",
    "\n",
    "## Probability Change to .3 in Pop1\n",
    "\n",
    "__Hypothesis:__ When you increase the probability from .2 to .3, you will get data that is close to pop2 where the samples might overlap. \n",
    "\n",
    "__Observation:__ The t-value is 10.05 that means that the means are about ten standard errors apart. The p-value is small that means that the difference we see in means is likely because of real difference in population and not because of variability in the samples. "
   ]
  },
  {
   "cell_type": "code",
   "execution_count": 6,
   "metadata": {},
   "outputs": [
    {
     "data": {
      "image/png": "[encoded data removed]",
      "text/plain": [
       "<matplotlib.figure.Figure at 0x1a18d746d8>"
      ]
     },
     "metadata": {},
     "output_type": "display_data"
    },
    {
     "data": {
      "image/png": "[encoded data removed]",
      "text/plain": [
       "<matplotlib.figure.Figure at 0x1a18dac7b8>"
      ]
     },
     "metadata": {},
     "output_type": "display_data"
    },
    {
     "name": "stdout",
     "output_type": "stream",
     "text": [
      "Ttest_indResult(statistic=10.055131617405568, pvalue=2.4792321370832065e-19)\n"
     ]
    }
   ],
   "source": [
    "# number of trials, probability of each trial\n",
    "# change probability value to 0.3 for pop1\n",
    "pop1 = np.random.binomial(10, 0.3, 10000)\n",
    "pop2 = np.random.binomial(10,0.5, 10000) \n",
    "\n",
    "# Let’s make histograms for the two groups. \n",
    "plt.hist(pop1, alpha=0.5, label='Population 1') \n",
    "plt.hist(pop2, alpha=0.5, label='Population 2') \n",
    "plt.legend(loc='upper right') \n",
    "plt.show()\n",
    "\n",
    "# recalculate samples\n",
    "sample1 = np.random.choice(pop1, 100, replace=True)\n",
    "sample2 = np.random.choice(pop2, 100, replace=True)\n",
    "\n",
    "plt.hist(sample1, alpha=0.5, label='sample 1') \n",
    "plt.hist(sample2, alpha=0.5, label='sample 2') \n",
    "plt.legend(loc='upper right') \n",
    "plt.show()\n",
    "\n",
    "# compute t-statistic and p-value\n",
    "print(ttest_ind(sample2, sample1, equal_var=False))"
   ]
  },
  {
   "cell_type": "markdown",
   "metadata": {},
   "source": [
    "## Probability Change to .4 in Pop1\n",
    "\n",
    "__Hypothesis:__ When you increase the probability from .3 to .4, you will get data that is close to pop2 where the samples will overlap. \n",
    "\n",
    "__Observation:__ The t-value is 3.75 that means that the means are about four standard errors apart. The p-value is small that means that the difference we see in means is likely because of real difference in population and not because of variability in the samples. "
   ]
  },
  {
   "cell_type": "code",
   "execution_count": 7,
   "metadata": {},
   "outputs": [
    {
     "data": {
      "image/png": "[encoded data removed]",
      "text/plain": [
       "<matplotlib.figure.Figure at 0x1a18bc5438>"
      ]
     },
     "metadata": {},
     "output_type": "display_data"
    },
    {
     "data": {
      "image/png": "[encoded data removed]",
      "text/plain": [
       "<matplotlib.figure.Figure at 0x1a18dac278>"
      ]
     },
     "metadata": {},
     "output_type": "display_data"
    },
    {
     "name": "stdout",
     "output_type": "stream",
     "text": [
      "Ttest_indResult(statistic=3.7468637939479637, pvalue=0.00023485122376807596)\n"
     ]
    }
   ],
   "source": [
    "# number of trials, probability of each trial\n",
    "# change probability value to 0.4 for pop1\n",
    "pop1 = np.random.binomial(10, 0.4, 10000)\n",
    "pop2 = np.random.binomial(10,0.5, 10000) \n",
    "\n",
    "# Let’s make histograms for the two groups. \n",
    "plt.hist(pop1, alpha=0.5, label='Population 1') \n",
    "plt.hist(pop2, alpha=0.5, label='Population 2') \n",
    "plt.legend(loc='upper right') \n",
    "plt.show()\n",
    "\n",
    "# recalculate samples\n",
    "sample1 = np.random.choice(pop1, 100, replace=True)\n",
    "sample2 = np.random.choice(pop2, 100, replace=True)\n",
    "\n",
    "plt.hist(sample1, alpha=0.5, label='sample 1') \n",
    "plt.hist(sample2, alpha=0.5, label='sample 2') \n",
    "plt.legend(loc='upper right') \n",
    "plt.show()\n",
    "\n",
    "# compute t-statistic and p-value\n",
    "print(ttest_ind(sample2, sample1, equal_var=False))"
   ]
  },
  {
   "cell_type": "markdown",
   "metadata": {},
   "source": [
    "# Chi-Square Distribution\n",
    "\n",
    "Chi-Square distribution is models how likely it is that an observed distribution is due to chance. The mean of the distribution is equal to the number of degrees of freedom (df), and the variance is equal to two times the number of df. As the df increase, the chi-square curve approaches a normal distribution of bell curve.\n",
    "\n",
    "__Hypothesis:__ Because the df is high, it is likely that it is close to normal distribution.\n",
    "\n",
    "__Observation:__ Given that df for both groups were same (10) and still have the same population sizes and sample sizes, small variation in mean and standard deviation was a surprise. "
   ]
  },
  {
   "cell_type": "code",
   "execution_count": 8,
   "metadata": {},
   "outputs": [
    {
     "data": {
      "image/png": "[encoded data removed]",
      "text/plain": [
       "<matplotlib.figure.Figure at 0x1a157b7668>"
      ]
     },
     "metadata": {},
     "output_type": "display_data"
    },
    {
     "data": {
      "image/png": "[encoded data removed]",
      "text/plain": [
       "<matplotlib.figure.Figure at 0x1a18f19518>"
      ]
     },
     "metadata": {},
     "output_type": "display_data"
    }
   ],
   "source": [
    "# create population of 10,000\n",
    "pop1 = np.random.chisquare(10, 10000)\n",
    "pop2 = np.random.chisquare(10, 10000) \n",
    "\n",
    "# Let’s make histograms for the two groups. \n",
    "plt.hist(pop1, alpha=0.5, label='Population 1') \n",
    "plt.hist(pop2, alpha=0.5, label='Population 2') \n",
    "plt.legend(loc='upper right') \n",
    "plt.show()\n",
    "\n",
    "# create sample of 100\n",
    "sample1 = np.random.choice(pop1, 100, replace=True)\n",
    "sample2 = np.random.choice(pop2, 100, replace=True)\n",
    "\n",
    "# Let’s make histograms for the two samples.\n",
    "plt.hist(sample1, alpha=0.5, label='sample 1') \n",
    "plt.hist(sample2, alpha=0.5, label='sample 2') \n",
    "plt.legend(loc='upper right') \n",
    "plt.show()"
   ]
  },
  {
   "cell_type": "code",
   "execution_count": 9,
   "metadata": {},
   "outputs": [
    {
     "name": "stdout",
     "output_type": "stream",
     "text": [
      "\u001b[1mFirst Population of 10,000\n",
      "\u001b[0m\n",
      "Mean: 9.98\n",
      "Standard deviation: 4.57\n",
      "\u001b[1m\n",
      "Second Population of 10,000\n",
      "\u001b[0m\n",
      "Mean: 10.0\n",
      "Standard deviation: 4.51\n",
      "\u001b[1m\n",
      "First Sample of 100\n",
      "\u001b[0m\n",
      "Mean: 10.22\n",
      "Standard deviation: 4.44\n",
      "\u001b[1m\n",
      "Second Sample of 100\n",
      "\u001b[0m\n",
      "Mean: 10.22\n",
      "Standard deviation: 4.74\n"
     ]
    }
   ],
   "source": [
    "# population 1\n",
    "print(bold + \"First Population of 10,000\\n\" + end)\n",
    "\n",
    "# compute the mean\n",
    "mean_pop1 = round(pop1.mean(), 2)\n",
    "print(\"Mean:\", mean_pop1)\n",
    "\n",
    "# compute the standard deviation\n",
    "std_pop1 = round(pop1.std(), 2)\n",
    "print(\"Standard deviation:\", std_pop1)\n",
    "\n",
    "# population 2\n",
    "print(bold + \"\\nSecond Population of 10,000\\n\" + end)\n",
    "\n",
    "# compute the mean\n",
    "mean_pop2 = round(pop2.mean(), 2)\n",
    "print(\"Mean:\", mean_pop2)\n",
    "\n",
    "# compute the standard deviation\n",
    "std_pop2 = round(pop2.std(), 2)\n",
    "print(\"Standard deviation:\", std_pop2)\n",
    "\n",
    "# sample1\n",
    "print(bold + \"\\nFirst Sample of 100\\n\" + end)\n",
    "# compute the mean\n",
    "mean_sample1 = round(sample1.mean(), 2)\n",
    "print(\"Mean:\", mean_sample1)\n",
    "\n",
    "# compute the standard deviation\n",
    "std_sample1 = round(sample1.std(), 2)\n",
    "print(\"Standard deviation:\", std_sample1)\n",
    "\n",
    "# sample2\n",
    "print(bold + \"\\nSecond Sample of 100\\n\" + end)\n",
    "# compute the mean\n",
    "mean_sample2 = round(sample2.mean(), 2)\n",
    "print(\"Mean:\", mean_sample1)\n",
    "\n",
    "# compute the standard deviation\n",
    "std_sample2 = round(sample2.std(), 2)\n",
    "print(\"Standard deviation:\", std_sample2)"
   ]
  }
 ],
 "metadata": {
  "kernelspec": {
   "display_name": "Python 3",
   "language": "python",
   "name": "python3"
  },
  "language_info": {
   "codemirror_mode": {
    "name": "ipython",
    "version": 3
   },
   "file_extension": ".py",
   "mimetype": "text/x-python",
   "name": "python",
   "nbconvert_exporter": "python",
   "pygments_lexer": "ipython3",
   "version": "3.6.3"
  }
 },
 "nbformat": 4,
 "nbformat_minor": 2
}
