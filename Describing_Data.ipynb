{
 "cells": [
  {
   "cell_type": "markdown",
   "metadata": {},
   "source": [
    "# Describing Data\n",
    "\n",
    "## Brady Bunch Data Summary\n",
    "\n",
    "Source: Questions from Thinkful Curriculum\n",
    "\n",
    "This file written by: Dipti Muni\n",
    "Date: 2-8-2018"
   ]
  },
  {
   "cell_type": "code",
   "execution_count": 1,
   "metadata": {},
   "outputs": [],
   "source": [
    "#Question 1-5\n",
    "import pandas as pd # used for computation\n",
    "import numpy as np # used for mean\n",
    "import statistics \n",
    "from statistics import mode, StatisticsError"
   ]
  },
  {
   "cell_type": "markdown",
   "metadata": {},
   "source": [
    "### Question One\n",
    "\n",
    "__Greg was 14, Marcia was 12, Peter was 11, Jan was 10, Bobby was 8, and Cindy was 6 when they started playing the Brady kids on The Brady Bunch. Cousin Oliver was 8 years old when he joined the show. What are the mean, median, and mode of the kids' ages when they first appeared on the show? What are the variance, standard deviation, and standard error?__\n"
   ]
  },
  {
   "cell_type": "markdown",
   "metadata": {},
   "source": [
    "#### Central Tendency"
   ]
  },
  {
   "cell_type": "code",
   "execution_count": 2,
   "metadata": {
    "collapsed": true
   },
   "outputs": [],
   "source": [
    "# Make a blank data frame.\n",
    "df = pd.DataFrame()\n",
    "\n",
    "# Populate it with data.\n",
    "df['age'] = [14, 12, 11, 10, 8, 6, 8]"
   ]
  },
  {
   "cell_type": "code",
   "execution_count": 3,
   "metadata": {},
   "outputs": [
    {
     "data": {
      "text/html": [
       "<div>\n",
       "<style>\n",
       "    .dataframe thead tr:only-child th {\n",
       "        text-align: right;\n",
       "    }\n",
       "\n",
       "    .dataframe thead th {\n",
       "        text-align: left;\n",
       "    }\n",
       "\n",
       "    .dataframe tbody tr th {\n",
       "        vertical-align: top;\n",
       "    }\n",
       "</style>\n",
       "<table border=\"1\" class=\"dataframe\">\n",
       "  <thead>\n",
       "    <tr style=\"text-align: right;\">\n",
       "      <th></th>\n",
       "      <th>age</th>\n",
       "    </tr>\n",
       "  </thead>\n",
       "  <tbody>\n",
       "    <tr>\n",
       "      <th>count</th>\n",
       "      <td>7.000000</td>\n",
       "    </tr>\n",
       "    <tr>\n",
       "      <th>mean</th>\n",
       "      <td>9.857143</td>\n",
       "    </tr>\n",
       "    <tr>\n",
       "      <th>std</th>\n",
       "      <td>2.734262</td>\n",
       "    </tr>\n",
       "    <tr>\n",
       "      <th>min</th>\n",
       "      <td>6.000000</td>\n",
       "    </tr>\n",
       "    <tr>\n",
       "      <th>25%</th>\n",
       "      <td>8.000000</td>\n",
       "    </tr>\n",
       "    <tr>\n",
       "      <th>50%</th>\n",
       "      <td>10.000000</td>\n",
       "    </tr>\n",
       "    <tr>\n",
       "      <th>75%</th>\n",
       "      <td>11.500000</td>\n",
       "    </tr>\n",
       "    <tr>\n",
       "      <th>max</th>\n",
       "      <td>14.000000</td>\n",
       "    </tr>\n",
       "  </tbody>\n",
       "</table>\n",
       "</div>"
      ],
      "text/plain": [
       "             age\n",
       "count   7.000000\n",
       "mean    9.857143\n",
       "std     2.734262\n",
       "min     6.000000\n",
       "25%     8.000000\n",
       "50%    10.000000\n",
       "75%    11.500000\n",
       "max    14.000000"
      ]
     },
     "execution_count": 3,
     "metadata": {},
     "output_type": "execute_result"
    }
   ],
   "source": [
    "df.describe()"
   ]
  },
  {
   "cell_type": "code",
   "execution_count": 4,
   "metadata": {},
   "outputs": [
    {
     "name": "stdout",
     "output_type": "stream",
     "text": [
      "The mean is 9.86.\n"
     ]
    }
   ],
   "source": [
    "mean_age = np.mean(df['age'])\n",
    "print(\"The mean is \" + str(round(mean_age, 2)) + \".\")"
   ]
  },
  {
   "cell_type": "code",
   "execution_count": 5,
   "metadata": {},
   "outputs": [
    {
     "name": "stdout",
     "output_type": "stream",
     "text": [
      "The median is 10.0.\n"
     ]
    }
   ],
   "source": [
    "median_age = np.median(df['age'])\n",
    "print(\"The median is \" + str(round(median_age, 2)) + \".\")"
   ]
  },
  {
   "cell_type": "code",
   "execution_count": 6,
   "metadata": {},
   "outputs": [
    {
     "name": "stdout",
     "output_type": "stream",
     "text": [
      "The mode is 8.\n"
     ]
    }
   ],
   "source": [
    "try:\n",
    "    mode_age = statistics.mode(df['age'])\n",
    "    print(\"The mode is {}.\".format(mode_age))\n",
    "except StatisticsError:\n",
    "    print(\"There is no unique mode!\")"
   ]
  },
  {
   "cell_type": "markdown",
   "metadata": {},
   "source": [
    "#### Variance"
   ]
  },
  {
   "cell_type": "code",
   "execution_count": 7,
   "metadata": {},
   "outputs": [
    {
     "name": "stdout",
     "output_type": "stream",
     "text": [
      "The variance is 7.48.\n"
     ]
    }
   ],
   "source": [
    "variance_age = df['age'].var()\n",
    "print(\"The variance is \" + str(round(variance_age, 2)) + \".\")"
   ]
  },
  {
   "cell_type": "code",
   "execution_count": 8,
   "metadata": {},
   "outputs": [
    {
     "name": "stdout",
     "output_type": "stream",
     "text": [
      "The standard deviation is 2.73.\n"
     ]
    }
   ],
   "source": [
    "sd_age = np.std(df['age'], ddof=1)\n",
    "print(\"The standard deviation is \" + str(round(sd_age, 2)) + \".\")"
   ]
  },
  {
   "cell_type": "code",
   "execution_count": 9,
   "metadata": {},
   "outputs": [
    {
     "name": "stdout",
     "output_type": "stream",
     "text": [
      "The standard error is 1.03.\n"
     ]
    }
   ],
   "source": [
    "se_age = np.std(df['age'] ,ddof=1) / np.sqrt(len(df['age']))\n",
    "print(\"The standard error is \" + str(round(se_age, 2)) + \".\")"
   ]
  },
  {
   "cell_type": "markdown",
   "metadata": {},
   "source": [
    "### Question Two\n",
    "\n",
    "__Using these estimates, if you had to choose only one estimate of central tendency and one estimate of variance to describe the data, which would you pick and why?__"
   ]
  },
  {
   "cell_type": "markdown",
   "metadata": {},
   "source": [
    "For estimate of central tendency, there is not much difference in the mean and the median. Hence, I would choose either because age of 10 (approximately speaking) seems to be the average in the Brady Bunch group. \n",
    "\n",
    "Next, variance of the age variable should describe how much values differ from the central tendency (which is about 10). Therefore, I would say standard deviation estimate of 2.73 closely describes the average difference from central tendency. For example, for the sake of simplicity, let's say the mean is 10, so if we were to then subtract mean from all of the ages you get [4, 2, 1, 0, 2, 4, 2] in absolute value and divide the total by 7 you will get 2.14 average difference from 10. "
   ]
  },
  {
   "cell_type": "markdown",
   "metadata": {},
   "source": [
    "### Question Three\n",
    "\n",
    "__Next, Cindy has a birthday. Update your estimates- what changed, and what didn't?__"
   ]
  },
  {
   "cell_type": "code",
   "execution_count": 10,
   "metadata": {},
   "outputs": [
    {
     "name": "stdout",
     "output_type": "stream",
     "text": [
      "The mean is 10.0.\n",
      "The median is 10.0.\n",
      "The mode is 8.\n",
      "The variance is 6.33.\n",
      "The standard deviation is 2.52.\n",
      "The standard error is 0.95.\n"
     ]
    }
   ],
   "source": [
    "df['age'] = [14, 12, 11, 10, 8, 7, 8]\n",
    "def calculation(data):\n",
    "#Mean\n",
    "    mean_age = np.mean(df['age'])\n",
    "    print(\"The mean is \" + str(round(mean_age, 2)) + \".\")\n",
    "\n",
    "#Median\n",
    "    median_age = np.median(df['age'])\n",
    "    print(\"The median is \" + str(round(median_age, 2)) + \".\")\n",
    "\n",
    "#Mode\n",
    "    try:\n",
    "        mode_age = statistics.mode(df['age'])\n",
    "        print(\"The mode is {}.\".format(mode_age))\n",
    "    except StatisticsError:\n",
    "        print(\"There is no unique mode!\")\n",
    "    \n",
    "#Variance\n",
    "    variance_age = df['age'].var()\n",
    "    print(\"The variance is \" + str(round(variance_age, 2)) + \".\")\n",
    "\n",
    "#Standard Deviation\n",
    "    sd_age = np.std(df['age'], ddof=1)\n",
    "    print(\"The standard deviation is \" + str(round(sd_age, 2)) + \".\")\n",
    "\n",
    "#Standard Error\n",
    "    se_age = np.std(df['age'] ,ddof=1) / np.sqrt(len(df['age']))\n",
    "    print(\"The standard error is \" + str(round(se_age, 2)) + \".\")\n",
    "    \n",
    "calculation(df['age'])\n"
   ]
  },
  {
   "cell_type": "markdown",
   "metadata": {},
   "source": [
    "Seeing the central tendency and variance calculations above, we can see that the median and mode are the only two that has not changed in their answer. The mean increased by .14. The variance decreased by 1.15. The standard deviation decreased by .21. The standard error decreased by .08. \n",
    "\n",
    "What does this mean when Cindy got one year older? She is getting closer to the mean average and therefore the variance between different values has desreased a bit as well. If everyone below median gets one year older without change in everyone above median, we get increase mean and gaps in variances gets smaller. "
   ]
  },
  {
   "cell_type": "markdown",
   "metadata": {},
   "source": [
    "### Question Four\n",
    "\n",
    "__Nobody likes Cousin Oliver. Maybe the network should have used an even younger actor. Replace Cousin Oliver with 1-year-old Jessica, then recalculate again. Does this change your choice of central tendency or variance estimation methods?__"
   ]
  },
  {
   "cell_type": "code",
   "execution_count": 11,
   "metadata": {},
   "outputs": [
    {
     "name": "stdout",
     "output_type": "stream",
     "text": [
      "The mean is 9.0.\n",
      "The median is 10.0.\n",
      "There is no unique mode!\n",
      "The variance is 18.0.\n",
      "The standard deviation is 4.24.\n",
      "The standard error is 1.6.\n"
     ]
    }
   ],
   "source": [
    "df['age'] = [14, 12, 11, 10, 8, 7, 1]\n",
    "calculation(df['age'])"
   ]
  },
  {
   "cell_type": "markdown",
   "metadata": {},
   "source": [
    "Yes, for central tendency I would stick with median only. Because Jessica is the only one that is very young, it askews the data. As for my choice for variance estimation method. The variance increases signicantly by 11.67 and is not reliable when you have outlier. The standard deviation increases by 1.72 and the standard error increases by .65. I would stick with standard error to help with estimating the accuracy of my data. "
   ]
  },
  {
   "cell_type": "markdown",
   "metadata": {},
   "source": [
    "### Question Five\n",
    "\n",
    "__On the 50th anniversary of The Brady Bunch, four different magazines asked their readers whether they were fans of the show. The answers were: TV Guide 20% fans Entertainment Weekly 23% fans Pop Culture Today 17% fans SciPhi Phanatic 5% fans. Based on these numbers, what percentage of adult Americans would you estimate were Brady Bunch fans on the 50th anniversary of the show?__"
   ]
  },
  {
   "cell_type": "code",
   "execution_count": 12,
   "metadata": {},
   "outputs": [
    {
     "name": "stdout",
     "output_type": "stream",
     "text": [
      "On the 50th anniversary, the estimate number of 20.0% adult Americans were Brady Bunch Fans.\n"
     ]
    }
   ],
   "source": [
    "#We will leave SciPhi Phanatic fans out because it is a very specific kind of fans and does not represent the general population. Therefore, it will cause misrepresentation of the estimate. \n",
    "adult_percent =((20 + 23 + 17) / 300) * 100\n",
    "print(\"On the 50th anniversary, the estimate number of \" + str(adult_percent) + \"% adult Americans were Brady Bunch Fans.\")"
   ]
  }
 ],
 "metadata": {
  "kernelspec": {
   "display_name": "Python 3",
   "language": "python",
   "name": "python3"
  },
  "language_info": {
   "codemirror_mode": {
    "name": "ipython",
    "version": 3
   },
   "file_extension": ".py",
   "mimetype": "text/x-python",
   "name": "python",
   "nbconvert_exporter": "python",
   "pygments_lexer": "ipython3",
   "version": "3.6.3"
  }
 },
 "nbformat": 4,
 "nbformat_minor": 2
}
